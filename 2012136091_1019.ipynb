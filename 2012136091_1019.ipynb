{
 "metadata": {
  "name": "",
  "signature": "sha256:3c752dab1a4cf1348f2d1396456b969dbcc5cebdff093103f8ef2627930dd1cd"
 },
 "nbformat": 3,
 "nbformat_minor": 0,
 "worksheets": [
  {
   "cells": [
    {
     "cell_type": "heading",
     "level": 1,
     "metadata": {},
     "source": [
      "Assignment 3"
     ]
    },
    {
     "cell_type": "heading",
     "level": 2,
     "metadata": {},
     "source": [
      "2012136091 \uc774\uc2ac"
     ]
    },
    {
     "cell_type": "heading",
     "level": 3,
     "metadata": {},
     "source": [
      "L=[1, 2, 3, 4, 5]\uc77c \ub54c \ub2e4\uc74c \uac01 \ubb38\uc7a5\uc744 \uc218\ud589\ud55c \ud6c4\uc758 \uacb0\uacfc\ub97c \ubcf4\uace0 \ub0a9\ub4dd\ud560 \ub9cc\ud55c \uc774\uc720\ub97c \uc124\uba85\ud558\uc2dc\uc624."
     ]
    },
    {
     "cell_type": "code",
     "collapsed": false,
     "input": [
      "L = [1,2,3,4,5]\n",
      "L[1:3] = [100]\n",
      "print L"
     ],
     "language": "python",
     "metadata": {},
     "outputs": [
      {
       "output_type": "stream",
       "stream": "stdout",
       "text": [
        "[1, 100, 4, 5]\n"
       ]
      }
     ],
     "prompt_number": 1
    },
    {
     "cell_type": "markdown",
     "metadata": {},
     "source": [
      "L[1:3]\uc740 2,3\uc744 \ub73b\ud55c\ub2e4. \uadf8\ub7ec\ubbc0\ub85c \uadf8 \ubd80\ubd84\uc5d0 100\uc744 \ub123\uc73c\uba74 [1, 100, 4, 5]\uac00 \ub41c\ub2e4."
     ]
    },
    {
     "cell_type": "code",
     "collapsed": false,
     "input": [
      "L = [1,2,3,4,5]\n",
      "L[1:3] = [(100)]\n",
      "print L"
     ],
     "language": "python",
     "metadata": {},
     "outputs": [
      {
       "output_type": "stream",
       "stream": "stdout",
       "text": [
        "[1, 100, 4, 5]\n"
       ]
      }
     ],
     "prompt_number": 9
    },
    {
     "cell_type": "markdown",
     "metadata": {},
     "source": [
      "L[1:3]\uc740 2,3\uc744 \ub73b\ud55c\ub2e4. \uadf8\ub7ec\ubbc0\ub85c \uadf8 \ubd80\ubd84\uc5d0 (100)\uc744 \ub123\uc73c\uba74 [1, 100, 4, 5]\uac00 \ub41c\ub2e4."
     ]
    },
    {
     "cell_type": "code",
     "collapsed": false,
     "input": [
      "L = [1,2,3,4,5]\n",
      "L[1:3] = 100\n",
      "print L"
     ],
     "language": "python",
     "metadata": {},
     "outputs": [
      {
       "ename": "TypeError",
       "evalue": "can only assign an iterable",
       "output_type": "pyerr",
       "traceback": [
        "\u001b[1;31m---------------------------------------------------------------------------\u001b[0m\n\u001b[1;31mTypeError\u001b[0m                                 Traceback (most recent call last)",
        "\u001b[1;32m<ipython-input-57-2190a12ebf8f>\u001b[0m in \u001b[0;36m<module>\u001b[1;34m()\u001b[0m\n\u001b[0;32m      1\u001b[0m \u001b[0mL\u001b[0m \u001b[1;33m=\u001b[0m \u001b[1;33m[\u001b[0m\u001b[1;36m1\u001b[0m\u001b[1;33m,\u001b[0m\u001b[1;36m2\u001b[0m\u001b[1;33m,\u001b[0m\u001b[1;36m3\u001b[0m\u001b[1;33m,\u001b[0m\u001b[1;36m4\u001b[0m\u001b[1;33m,\u001b[0m\u001b[1;36m5\u001b[0m\u001b[1;33m]\u001b[0m\u001b[1;33m\u001b[0m\u001b[0m\n\u001b[1;32m----> 2\u001b[1;33m \u001b[0mL\u001b[0m\u001b[1;33m[\u001b[0m\u001b[1;36m1\u001b[0m\u001b[1;33m:\u001b[0m\u001b[1;36m3\u001b[0m\u001b[1;33m]\u001b[0m \u001b[1;33m=\u001b[0m \u001b[1;36m100\u001b[0m\u001b[1;33m\u001b[0m\u001b[0m\n\u001b[0m\u001b[0;32m      3\u001b[0m \u001b[1;32mprint\u001b[0m \u001b[0mL\u001b[0m\u001b[1;33m\u001b[0m\u001b[0m\n",
        "\u001b[1;31mTypeError\u001b[0m: can only assign an iterable"
       ]
      }
     ],
     "prompt_number": 57
    },
    {
     "cell_type": "markdown",
     "metadata": {},
     "source": [
      "L[1:3] \uc2ac\ub77c\uc774\uc2a4\uc640 \ud06c\uae30\uac00 \ub2e4\ub974\ubbc0\ub85c 100 \ud55c\uac1c\ub9cc \ub123\uc744 \uc218 \uc5c6\ub2e4. \ub9cc\uc57d 100,200 \uc774\ub807\uac8c \ub123\ub294\ub2e4\uba74 \uac00\ub2a5\ud558\ub2e4"
     ]
    },
    {
     "cell_type": "code",
     "collapsed": false,
     "input": [
      "L = [1,2,3,4,5]\n",
      "L[1:3] = (100)\n",
      "print L"
     ],
     "language": "python",
     "metadata": {},
     "outputs": [
      {
       "ename": "TypeError",
       "evalue": "can only assign an iterable",
       "output_type": "pyerr",
       "traceback": [
        "\u001b[1;31m---------------------------------------------------------------------------\u001b[0m\n\u001b[1;31mTypeError\u001b[0m                                 Traceback (most recent call last)",
        "\u001b[1;32m<ipython-input-59-c5aa4b5b4c59>\u001b[0m in \u001b[0;36m<module>\u001b[1;34m()\u001b[0m\n\u001b[0;32m      1\u001b[0m \u001b[0mL\u001b[0m \u001b[1;33m=\u001b[0m \u001b[1;33m[\u001b[0m\u001b[1;36m1\u001b[0m\u001b[1;33m,\u001b[0m\u001b[1;36m2\u001b[0m\u001b[1;33m,\u001b[0m\u001b[1;36m3\u001b[0m\u001b[1;33m,\u001b[0m\u001b[1;36m4\u001b[0m\u001b[1;33m,\u001b[0m\u001b[1;36m5\u001b[0m\u001b[1;33m]\u001b[0m\u001b[1;33m\u001b[0m\u001b[0m\n\u001b[1;32m----> 2\u001b[1;33m \u001b[0mL\u001b[0m\u001b[1;33m[\u001b[0m\u001b[1;36m1\u001b[0m\u001b[1;33m:\u001b[0m\u001b[1;36m3\u001b[0m\u001b[1;33m]\u001b[0m \u001b[1;33m=\u001b[0m \u001b[1;33m(\u001b[0m\u001b[1;36m100\u001b[0m\u001b[1;33m)\u001b[0m\u001b[1;33m\u001b[0m\u001b[0m\n\u001b[0m\u001b[0;32m      3\u001b[0m \u001b[1;32mprint\u001b[0m \u001b[0mL\u001b[0m\u001b[1;33m\u001b[0m\u001b[0m\n",
        "\u001b[1;31mTypeError\u001b[0m: can only assign an iterable"
       ]
      }
     ],
     "prompt_number": 59
    },
    {
     "cell_type": "markdown",
     "metadata": {},
     "source": [
      "L[1:3] \uc2ac\ub77c\uc774\uc2a4\uc640 \ud06c\uae30\uac00 \ub2e4\ub974\ubbc0\ub85c 100 \ud55c\uac1c\ub9cc \ub123\uc744 \uc218 \uc5c6\ub2e4. \ub9cc\uc57d (100,200) \uc774\ub807\uac8c \ub123\ub294\ub2e4\uba74 \uac00\ub2a5\ud558\ub2e4"
     ]
    },
    {
     "cell_type": "code",
     "collapsed": false,
     "input": [
      "L = [1,2,3,4,5]\n",
      "L[1:3] = (100, 101, 102)\n",
      "print L"
     ],
     "language": "python",
     "metadata": {},
     "outputs": [
      {
       "output_type": "stream",
       "stream": "stdout",
       "text": [
        "[1, 100, 101, 102, 4, 5]\n"
       ]
      }
     ],
     "prompt_number": 12
    },
    {
     "cell_type": "markdown",
     "metadata": {},
     "source": [
      "L[1:3]\uc740 2,3\uc744 \ub73b\ud55c\ub2e4. \uadf8\ub7ec\ubbc0\ub85c \uadf8 \ubd80\ubd84\uc5d0 (100, 101, 102)\ub97c \ub123\uc73c\uba74 [1, 100, 101, 102, 4, 5]\uac00 \ub41c\ub2e4."
     ]
    },
    {
     "cell_type": "code",
     "collapsed": false,
     "input": [
      "L = [1,2,3,4,5]\n",
      "L[1:3] = [100, 101, 102]\n",
      "print L"
     ],
     "language": "python",
     "metadata": {},
     "outputs": [
      {
       "output_type": "stream",
       "stream": "stdout",
       "text": [
        "[1, 100, 101, 102, 4, 5]\n"
       ]
      }
     ],
     "prompt_number": 13
    },
    {
     "cell_type": "markdown",
     "metadata": {},
     "source": [
      "L[1:3]\uc740 2,3\uc744 \ub73b\ud55c\ub2e4. \uadf8\ub7ec\ubbc0\ub85c \uadf8 \ubd80\ubd84\uc5d0 [100, 101, 102]\ub97c \ub123\uc73c\uba74 [1, 100, 101, 102, 4, 5]\uac00 \ub41c\ub2e4."
     ]
    },
    {
     "cell_type": "code",
     "collapsed": false,
     "input": [
      "L = [1,2,3,4,5]\n",
      "L[1:3] = [(100, 101, 102)]\n",
      "print L"
     ],
     "language": "python",
     "metadata": {},
     "outputs": [
      {
       "output_type": "stream",
       "stream": "stdout",
       "text": [
        "[1, (100, 101, 102), 4, 5]\n"
       ]
      }
     ],
     "prompt_number": 14
    },
    {
     "cell_type": "markdown",
     "metadata": {},
     "source": [
      "L[1:3]\uc740 2,3\uc744 \ub73b\ud55c\ub2e4. \uadf8\ub7ec\ubbc0\ub85c \uadf8 \ubd80\ubd84\uc5d0 [(100, 101, 102)]\uc744 \ub123\uc73c\uba74 [1, 100, 101, 102, 4, 5]\uac00 \ub41c\ub2e4."
     ]
    },
    {
     "cell_type": "code",
     "collapsed": false,
     "input": [
      "L = [1,2,3,4,5]\n",
      "L[1:3] = [[100, 101, 102]]\n",
      "print L"
     ],
     "language": "python",
     "metadata": {},
     "outputs": [
      {
       "output_type": "stream",
       "stream": "stdout",
       "text": [
        "[1, [100, 101, 102], 4, 5]\n"
       ]
      }
     ],
     "prompt_number": 15
    },
    {
     "cell_type": "markdown",
     "metadata": {},
     "source": [
      "L[1:3]\uc740 2,3\uc744 \ub73b\ud55c\ub2e4. \uadf8\ub7ec\ubbc0\ub85c \uadf8 \ubd80\ubd84\uc5d0 [[100, 101, 102]]\uc744 \ub123\uc73c\uba74 [1, 100, 101, 102, 4, 5]\uac00 \ub41c\ub2e4."
     ]
    },
    {
     "cell_type": "heading",
     "level": 3,
     "metadata": {},
     "source": [
      "\ubb38\uc790\uc5f4 S = 'Hello World and Python'\uc5d0 \ub300\ud574 \ub2e4\uc74c \uc694\uad6c\uc0ac\ud56d\uc5d0 \ub300\ud55c Python \ucf54\ub4dc\ub97c \uc81c\uc2dc\ud558\uc2dc\uc624."
     ]
    },
    {
     "cell_type": "heading",
     "level": 4,
     "metadata": {},
     "source": [
      "1) \ub2e8\uc5b4\uc758 \uc21c\uc11c\uac00 \uc5ed\uc21c\uc73c\ub85c \ub418\uc5b4\uc9c4 \ubb38\uc790\uc5f4 ('Python and World Hello')\uc744 \ub9cc\ub4e4\uace0"
     ]
    },
    {
     "cell_type": "code",
     "collapsed": false,
     "input": [
      "s = \"Hello World and Python\"\n",
      "n = ' '.join(reversed(s.split()))\n",
      "print n"
     ],
     "language": "python",
     "metadata": {},
     "outputs": [
      {
       "output_type": "stream",
       "stream": "stdout",
       "text": [
        "Python and World Hello\n"
       ]
      }
     ],
     "prompt_number": 71
    },
    {
     "cell_type": "heading",
     "level": 4,
     "metadata": {},
     "source": [
      "2) 1)\uc758 \uacb0\uacfc \ubb38\uc790\uc5f4\uc5d0 \ub300\ud574 \uba54\uc18c\ub4dc split\uacfc join\uc744 \uc774\uc6a9\ud558\uc5ec \uacf5\ubc31\uc744 \ubaa8\ub450 \uc5c6\uc5d4 \ubb38\uc790\uc5f4 'PythonandWorldHello'\uc744 \ub9cc\ub4dc\uc2dc\uc624."
     ]
    },
    {
     "cell_type": "code",
     "collapsed": false,
     "input": [
      "s = \"Hello World and Python\"\n",
      "n = ' '.join(reversed(s.split()))\n",
      "nn = ''.join(v.split())\n",
      "print nn"
     ],
     "language": "python",
     "metadata": {},
     "outputs": [
      {
       "output_type": "stream",
       "stream": "stdout",
       "text": [
        "PythonandWorldHello\n"
       ]
      }
     ],
     "prompt_number": 72
    },
    {
     "cell_type": "heading",
     "level": 3,
     "metadata": {},
     "source": [
      "\ub2e4\uc74c \ucf54\ub4dc\ub97c \ubcf4\uace0 \ubb3c\uc74c\uc5d0 \ub2f5\ud558\uc2dc\uc624."
     ]
    },
    {
     "cell_type": "heading",
     "level": 4,
     "metadata": {},
     "source": [
      "a = [1, 2, 3]"
     ]
    },
    {
     "cell_type": "heading",
     "level": 4,
     "metadata": {},
     "source": [
      "b = a * 3"
     ]
    },
    {
     "cell_type": "heading",
     "level": 4,
     "metadata": {},
     "source": [
      "c = [a] * 3"
     ]
    },
    {
     "cell_type": "heading",
     "level": 4,
     "metadata": {},
     "source": [
      "print b"
     ]
    },
    {
     "cell_type": "heading",
     "level": 4,
     "metadata": {},
     "source": [
      "print c"
     ]
    },
    {
     "cell_type": "heading",
     "level": 4,
     "metadata": {},
     "source": [
      "1) \uc704 \ucf54\ub4dc\ub97c \uc218\ud589\ud55c \uc774\ud6c4 \ub2e4\uc74c \ucf54\ub4dc\ub97c \uc218\ud589\ud55c \ud6c4 b\uc640 c\uc758 \ub0b4\uc6a9\uc744 \ud655\uc778\ud558\uc2dc\uc624."
     ]
    },
    {
     "cell_type": "heading",
     "level": 4,
     "metadata": {},
     "source": [
      "a[0]=0"
     ]
    },
    {
     "cell_type": "code",
     "collapsed": false,
     "input": [
      "a = [1,2,3]\n",
      "b = a*3\n",
      "c = [a]*3\n",
      "print b\n",
      "print c"
     ],
     "language": "python",
     "metadata": {},
     "outputs": [
      {
       "output_type": "stream",
       "stream": "stdout",
       "text": [
        "[1, 2, 3, 1, 2, 3, 1, 2, 3]\n",
        "[[1, 2, 3], [1, 2, 3], [1, 2, 3]]\n"
       ]
      }
     ],
     "prompt_number": 19
    },
    {
     "cell_type": "code",
     "collapsed": false,
     "input": [
      "a = [1,2,3]\n",
      "b = a*3\n",
      "c = [a]*3\n",
      "a[0]=0\n",
      "print b\n",
      "print c"
     ],
     "language": "python",
     "metadata": {},
     "outputs": [
      {
       "output_type": "stream",
       "stream": "stdout",
       "text": [
        "[1, 2, 3, 1, 2, 3, 1, 2, 3]\n",
        "[[0, 2, 3], [0, 2, 3], [0, 2, 3]]\n"
       ]
      }
     ],
     "prompt_number": 20
    },
    {
     "cell_type": "heading",
     "level": 4,
     "metadata": {},
     "source": [
      "2) b\uc640 c \uac1d\uccb4\uc758 \ucc28\uc774\ub294 \ubb34\uc5c7\uc778\uac00?"
     ]
    },
    {
     "cell_type": "markdown",
     "metadata": {},
     "source": [
      "b\ub294 a\uc758 \uac1d\uccb4\ub97c \ubcf5\uc0ac\ud558\uace0 c\ub294 a\ub97c \ucc38\uc870\ud55c\ub2e4"
     ]
    },
    {
     "cell_type": "heading",
     "level": 3,
     "metadata": {},
     "source": [
      "\ub2e4\uc74c \ubb38\uc790\uc5f4\uc744 ':'\uc744 \uae30\uc900\uc73c\ub85c \ubd84\ub9ac\ud558\uc5ec \ub9ac\uc2a4\ud2b8\ub85c \ub9cc\ub4e4\uace0 \uac01 \ubb38\uc790\uc5f4\uc758 \uc88c\uc6b0 \uacf5\ubc31\uc744 \uc81c\uac70\ud558\uc2dc\uc624 (\uc989, \ubb38\uc790\uc5f4 S\uc5d0\uc11c l\uc744 \ub9cc\ub4e4\uc5b4\ub77c)"
     ]
    },
    {
     "cell_type": "heading",
     "level": 4,
     "metadata": {},
     "source": [
      "s = '  first star   :   second star   :    third star  '"
     ]
    },
    {
     "cell_type": "heading",
     "level": 4,
     "metadata": {},
     "source": [
      "l = ['first star', 'second star', 'third star']"
     ]
    },
    {
     "cell_type": "heading",
     "level": 4,
     "metadata": {},
     "source": [
      "1) for ~ in \ubb38\uc744 \uc774\uc6a9\ud55c \ucf54\ub4dc\ub97c \uc791\uc131\ud558\uc2dc\uc624."
     ]
    },
    {
     "cell_type": "code",
     "collapsed": false,
     "input": [
      "s = ' first star : second star : third star '\n",
      "l = []\n",
      "for ch in s.split(':') :\n",
      "    l.append(ch.strip())\n",
      "print l"
     ],
     "language": "python",
     "metadata": {},
     "outputs": [
      {
       "output_type": "stream",
       "stream": "stdout",
       "text": [
        "['first star', 'second star', 'third star']\n"
       ]
      }
     ],
     "prompt_number": 23
    },
    {
     "cell_type": "heading",
     "level": 4,
     "metadata": {},
     "source": [
      "2) \ub9ac\uc2a4\ud2b8 \ub0b4\ud3ec(list comprehension)\ub97c \uc774\uc6a9\ud55c \ucf54\ub4dc\ub97c \uc791\uc131\ud558\uc2dc\uc624."
     ]
    },
    {
     "cell_type": "code",
     "collapsed": false,
     "input": [
      "s = ' first star : second star : third star '\n",
      "l = [line.strip() for line in s.split(':')]\n",
      "print l"
     ],
     "language": "python",
     "metadata": {},
     "outputs": [
      {
       "output_type": "stream",
       "stream": "stdout",
       "text": [
        "['first star', 'second star', 'third star']\n"
       ]
      }
     ],
     "prompt_number": 24
    },
    {
     "cell_type": "heading",
     "level": 3,
     "metadata": {},
     "source": [
      "\ub2e4\uc74c\uacfc \uac19\uc774 0\ubcf4\ub2e4 \ud070 \uc815\uc218 \ub9ac\uc2a4\ud2b8 \ubcc0\uc218 list\ub97c \uc778\uc790\ub85c \ubc1b\ub294 \ud568\uc218 addall(list)\uc640 addallodd(list)\ub97c for ~ in \ub9ac\ud130\ub110\uacfc \ub9ac\uc2a4\ud2b8 \ub0b4\ud3ec \ubc29\uc2dd\uc73c\ub85c \uac01\uac01 \uc81c\uc2dc\ud558\uc2dc\uc624."
     ]
    },
    {
     "cell_type": "heading",
     "level": 4,
     "metadata": {},
     "source": [
      "1) addall(list) \ud568\uc218 (\ub9ac\uc2a4\ud2b8 \ub0b4\uc758 \ubaa8\ub4e0 \uc815\uc218\ub97c \ub354\ud558\ub294 \ud568\uc218\ub85c\uc11c \ud574\ub2f5\uc73c\ub85c\ub294 for ~ in \ub9ac\ud130\ub7f4\uacfc \ub9ac\uc2a4\ud2b8 \ub0b4\ud3ec \ubc29\uc2dd\uc73c\ub85c \uac01\uac01 \uc81c\uc2dc\ud558\uc2dc\uc624.)"
     ]
    },
    {
     "cell_type": "code",
     "collapsed": false,
     "input": [
      "def addall(*args):\n",
      "    s = 0\n",
      "    for k in args :\n",
      "        s+=k\n",
      "    return s\n",
      "addall(1,2,3,4,5,6,7,8,9)"
     ],
     "language": "python",
     "metadata": {},
     "outputs": [
      {
       "metadata": {},
       "output_type": "pyout",
       "prompt_number": 3,
       "text": [
        "45"
       ]
      }
     ],
     "prompt_number": 3
    },
    {
     "cell_type": "heading",
     "level": 4,
     "metadata": {},
     "source": [
      "2) addallodd(list) \ud568\uc218 (\ub9ac\uc2a4\ud2b8\ub0b4\uc758 \ubaa8\ub4e0 \ud640\uc218\ub97c \ub354\ud558\ub294 \ud568\uc218\ub85c\uc11c \ud574\ub2f5\uc73c\ub85c\ub294 for ~ in \ub9ac\ud130\ub7f4\uacfc \ub9ac\uc2a4\ud2b8 \ub0b4\ud3ec \ubc29\uc2dd\uc73c\ub85c \uac01\uac01 \uc81c\uc2dc\ud558\uc2dc\uc624.)"
     ]
    },
    {
     "cell_type": "code",
     "collapsed": false,
     "input": [
      "def addall(*args):\n",
      "    s = 0\n",
      "    for k in args :\n",
      "        if k%2:\n",
      "            s+=k\n",
      "    return s\n",
      "addall(1,2,3,4,5,6,7,8,9)"
     ],
     "language": "python",
     "metadata": {},
     "outputs": [
      {
       "metadata": {},
       "output_type": "pyout",
       "prompt_number": 8,
       "text": [
        "25"
       ]
      }
     ],
     "prompt_number": 8
    },
    {
     "cell_type": "heading",
     "level": 3,
     "metadata": {},
     "source": [
      "\ub2e4\uc74c \ucf54\ub4dc\ub97c \ubcf4\uace0 \ubb3c\uc74c\uc5d0 \ub2f5\ud558\uc2dc\uc624."
     ]
    },
    {
     "cell_type": "code",
     "collapsed": false,
     "input": [
      "L1 = [1, 2, 3]\n",
      "L2 = [4, 5, 6]\n",
      "d = {'low':L1, 'high':L2}\n",
      "e = d\n",
      "f = d.copy()\n",
      "print d\n",
      "print e\n",
      "print f\n",
      "print\n",
      "d['low'] = [10, 20, 30]\n",
      "d['high'][1] = 500\n",
      "print d\n",
      "print e\n",
      "print f"
     ],
     "language": "python",
     "metadata": {},
     "outputs": [
      {
       "output_type": "stream",
       "stream": "stdout",
       "text": [
        "{'high': [4, 5, 6], 'low': [1, 2, 3]}\n",
        "{'high': [4, 5, 6], 'low': [1, 2, 3]}\n",
        "{'high': [4, 5, 6], 'low': [1, 2, 3]}\n",
        "\n",
        "{'high': [4, 500, 6], 'low': [10, 20, 30]}\n",
        "{'high': [4, 500, 6], 'low': [10, 20, 30]}\n",
        "{'high': [4, 500, 6], 'low': [1, 2, 3]}\n"
       ]
      }
     ],
     "prompt_number": 25
    },
    {
     "cell_type": "heading",
     "level": 4,
     "metadata": {},
     "source": [
      "1) \uc704 \ucf54\ub4dc\uc758 \uc218\ud589 \uacb0\uacfc d\uc640 e\ub294 \ud56d\uc0c1 \uac19\uc740 \uacb0\uacfc\ub97c \ucd9c\ub825\ud55c\ub2e4. \uadf8 \uc774\uc720\ub294 \ubb34\uc5c7\uc778\uac00?"
     ]
    },
    {
     "cell_type": "markdown",
     "metadata": {},
     "source": [
      "e\ub294 d\ub97c \ubcf5\uc0ac\ud55c \uac83\uc774\uae30\ub54c\ubb38\uc774\ub2e4."
     ]
    },
    {
     "cell_type": "heading",
     "level": 4,
     "metadata": {},
     "source": [
      "2) \uc704 \ucf54\ub4dc\uc758 \uc218\ud589 \uacb0\uacfc \ub9c8\uc9c0\ub9c9 f\uc758 \ub0b4\uc6a9\uc740 \ub2e4\uc74c\uacfc \uac19\ub2e4. \uc774 \ub54c 'high' \ud0a4\uc758 \uac12 \ub0b4\uc6a9 \uc911 500\uc774 \ucd9c\ub825\ub41c \uc774\uc720\uc640 'low' \ud0a4\uc758 \uac12 \ub0b4\uc6a9 \uc911 [1, 2, 3]\uc774 \ucd9c\ub825\ub41c \uc774\uc720\ub97c \uc124\uba85\ud558\uc2dc\uc624 ([hint]: shallow copy \uad00\uc810\uc5d0\uc11c \uc124\uba85\ud558\uc2dc\uc624.)"
     ]
    },
    {
     "cell_type": "heading",
     "level": 4,
     "metadata": {},
     "source": [
      "{'high': [4, 500, 6], 'low': [1, 2, 3]}"
     ]
    },
    {
     "cell_type": "markdown",
     "metadata": {},
     "source": [
      "shallow copy\ub97c \ud55c \uacbd\uc6b0\uc5d0\ub294 \ubcc4\ub3c4\uc758 \ub9ac\uc2a4\ud2b8 \uac1d\uccb4\ub97c \uac00\uc9c0\ub354\ub77c\ub3c4 \uc2e4\uc81c \ub0b4\uc6a9\uacfc \ub2e4\ub974\uc9c0 \uc54a\ub2e4.\n",
      "deep copy\ub294 \uc6d0\ubcf8\uc758 \uc804\uccb4\ub97c \ubcf5\uc0ac\ud558\uae30 \ub54c\ubb38\uc774\ub2e4."
     ]
    },
    {
     "cell_type": "heading",
     "level": 3,
     "metadata": {},
     "source": [
      "\uc0ac\uc804 d = {'one':1, 'two':2, 'three':3, 'four':4, 'five':5}\uac00 \uc8fc\uc5b4\uc84c\uc744 \ub54c \ub2e4\uc74c \uc694\uad6c\uc0ac\ud56d\uc5d0 \ub9de\ub294 \ucf54\ub4dc\ub97c \uc81c\uc2dc\ud558\uc2dc\uc624"
     ]
    },
    {
     "cell_type": "heading",
     "level": 4,
     "metadata": {},
     "source": [
      "1) \ud0a4\uc758 \uc54c\ud30c\ubcb3 \uc624\ub984\ucc28\uc21c \uc21c\uc11c\ub300\ub85c \ud29c\ud50c (\ud0a4, \uac12)\uc744 \ucc28\ub840\ub300\ub85c \ucd9c\ub825\ud558\uc2dc\uc624."
     ]
    },
    {
     "cell_type": "code",
     "collapsed": false,
     "input": [
      "d = {'one':1, 'two':2, 'three':3, 'four':4, 'five':5}\n",
      "L = d.items()\n",
      "L.sort()\n",
      "print L"
     ],
     "language": "python",
     "metadata": {},
     "outputs": [
      {
       "output_type": "stream",
       "stream": "stdout",
       "text": [
        "[('five', 5), ('four', 4), ('one', 1), ('three', 3), ('two', 2)]\n"
       ]
      }
     ],
     "prompt_number": 44
    },
    {
     "cell_type": "heading",
     "level": 4,
     "metadata": {},
     "source": [
      "2) \ud0a4\uc758 \uc54c\ud30c\ubcb3 \ub0b4\ub9bc\ucc28\uc21c \uc21c\uc11c\ub300\ub85c \ud29c\ud50c (\ud0a4, \uac12)\uc744 \ucc28\ub840\ub300\ub85c \ucd9c\ub825\ud558\uc2dc\uc624."
     ]
    },
    {
     "cell_type": "code",
     "collapsed": false,
     "input": [
      "d = {'one':1, 'two':2, 'three':3, 'four':4, 'five':5}\n",
      "L = d.items()\n",
      "L.sort(reverse=True)\n",
      "print L"
     ],
     "language": "python",
     "metadata": {},
     "outputs": [
      {
       "output_type": "stream",
       "stream": "stdout",
       "text": [
        "[('two', 2), ('three', 3), ('one', 1), ('four', 4), ('five', 5)]\n"
       ]
      }
     ],
     "prompt_number": 48
    },
    {
     "cell_type": "heading",
     "level": 4,
     "metadata": {},
     "source": [
      "3) \uac12\uc758 \uc624\ub984\ucc28\uc21c \uc21c\uc11c\ub300\ub85c \ud29c\ud50c (\ud0a4, \uac12)\uc744 \ucc28\ub840\ub300\ub85c \ucd9c\ub825\ud558\uc2dc\uc624."
     ]
    },
    {
     "cell_type": "code",
     "collapsed": false,
     "input": [
      "d = {'one':1, 'two':2, 'three':3, 'four':4, 'five':5}\n",
      "L = d.items()\n",
      "L.sort(key=lambda item:item[1])\n",
      "print L"
     ],
     "language": "python",
     "metadata": {},
     "outputs": [
      {
       "output_type": "stream",
       "stream": "stdout",
       "text": [
        "[('one', 1), ('two', 2), ('three', 3), ('four', 4), ('five', 5)]\n"
       ]
      }
     ],
     "prompt_number": 43
    },
    {
     "cell_type": "heading",
     "level": 4,
     "metadata": {},
     "source": [
      "4) \uac12\uc758 \ub0b4\ub9bc\ucc28\uc21c \uc21c\uc11c\ub300\ub85c \ud29c\ud50c (\ud0a4, \uac12)\uc744 \ucc28\ub840\ub300\ub85c \ucd9c\ub825\ud558\uc2dc\uc624."
     ]
    },
    {
     "cell_type": "code",
     "collapsed": false,
     "input": [
      "d = {'one':1, 'two':2, 'three':3, 'four':4, 'five':5}\n",
      "L = d.items()\n",
      "L.sort(key=lambda item:item[1], reverse=True)\n",
      "print L"
     ],
     "language": "python",
     "metadata": {},
     "outputs": [
      {
       "output_type": "stream",
       "stream": "stdout",
       "text": [
        "[('five', 5), ('four', 4), ('three', 3), ('two', 2), ('one', 1)]\n"
       ]
      }
     ],
     "prompt_number": 53
    },
    {
     "cell_type": "heading",
     "level": 3,
     "metadata": {},
     "source": [
      "\uc774\uc804 Assignment 2\uc758 \ub9c8\uc9c0\ub9c9 \ubb38\uc81c\ub294 \uc6f9 URL\ub85c \uc9c0\uc815\ub41c \uc6f9\ud398\uc774\uc9c0\ub97c \ubb38\uc790\uc5f4\ub85c \uac00\uc838\uc640 \ubaa8\ub4e0 HTML \ud0dc\uadf8 \ubc0f CSS\uc640 Javascript\ub97c \uc81c\uc678\ud55c \uc21c\uc218 \ud14d\uc2a4\ud2b8\ub97c \uc5bb\uc5b4\ub0b4\uace0 \uadf8 \uc548\uc5d0 \uc874\uc7ac\ud558\ub294 \ub2e8\uc5b4\ub97c \ucd94\ucd9c\ud558\ub294 \ud504\ub85c\uadf8\ub7a8\uc744 \uc791\uc131\ud558\ub294 \uac83\uc774\uc5c8\ub2e4. \uc774\ubc88\uc5d0\ub294 \uadf8 \ub9c8\uc9c0\ub9c9 \uc219\uc81c\ub97c \uadf8\ub300\ub85c \ud655\uc7a5\ud558\uc5ec \uc6f9 URL\ub85c \uc9c0\uc815\ub41c \uc6f9\ud398\uc774\uc9c0 \ub0b4 \uc21c\uc218 \ud14d\uc2a4\ud2b8 \uc548\uc5d0 \uc874\uc7ac\ud558\ub294 \uac01 \ub2e8\uc5b4\ub4e4\uc5d0 \ub300\ud574 \ub2e4\uc74c \uc694\uad6c\uc0ac\ud56d \ub300\ub85c \ucd9c\ub825\ud558\ub294 \ud504\ub85c\uadf8\ub7a8\uc744 \uc791\uc131\ud558\uc2dc\uc624."
     ]
    },
    {
     "cell_type": "heading",
     "level": 4,
     "metadata": {},
     "source": [
      "\uc694\uad6c\uc0ac\ud56d 1. \uc21c\uc218 \ud14d\uc2a4\ud2b8 \uc548\uc5d0 \uc874\uc7ac\ud558\ub294 \ub2e8\uc5b4\ub4e4\uc5d0 \ub300\ud574 string \ubaa8\ub4c8\uc744 \ud65c\uc6a9\ud558\uc5ec \ubaa8\ub4e0 punctuation (\uad6c\ub450\ubb38\uc790)\ub97c \uc644\ubcbd\ud788 \uc81c\uac70\ud558\uc2dc\uc624 (\uad50\uc7ac 166\ud398\uc774\uc9c0 \ucc38\uace0)."
     ]
    },
    {
     "cell_type": "heading",
     "level": 4,
     "metadata": {},
     "source": [
      "\uc608: ['world!', ':', '+hello+', '~python$$$', '=', 'world'] ---> ['world', 'hello', 'python', 'world']"
     ]
    },
    {
     "cell_type": "heading",
     "level": 4,
     "metadata": {},
     "source": [
      "\uc694\uad6c\uc0ac\ud56d 2. \uac01 \ub2e8\uc5b4\ub4e4\uc758 \ucd9c\ud604\ube48\ub3c4\ub97c \uc0ac\uc804\ud615\ud0dc\ub85c \uc800\uc7a5\ud558\uc5ec \ucd9c\ub825\ud558\uc2dc\uc624."
     ]
    },
    {
     "cell_type": "heading",
     "level": 4,
     "metadata": {},
     "source": [
      "\uc608: ['world', 'hello', 'python', 'world'] ---> {'world': 2, 'hello': 1, 'python': 1}"
     ]
    },
    {
     "cell_type": "code",
     "collapsed": false,
     "input": [
      "import urllib\n",
      "\n",
      "source = urllib.urlopen(\"https://www.python.org/\").read()\n",
      "\n",
      "len_source = len(source)\n",
      "\n",
      "\n",
      "source_new = None\n",
      "i = 0\n",
      "while (i < len_source):\n",
      "\tfound = False\n",
      "\tif (found != True and source[i] == \"<\" and source[i+1 : i+7].lower() == \"script\"):\n",
      "\t\tfound = True;\n",
      "\t\tj = i + 7;\n",
      "\t\twhile (True):\n",
      "\t\t\tif (source[j] == \"<\" and source[j+1] == \"/\" and source[j+2 : j+8].lower() == \"script\"):\n",
      "\t\t\t\t#print \"found - script\"\n",
      "\t\t\t\tsource = source[:i] + ' ' + source[j+9:]\n",
      "\t\t\t\tbreak\n",
      "\t\t\tj = j + 1\n",
      "\t\t\tif (j > len_source):\n",
      "\t\t\t\tbreak\n",
      "\t\tlen_source = len(source)\n",
      "\ti = i + 1\n",
      "\n",
      "len_source = len(source)\n",
      "#print len_source\n",
      "\n",
      "i = 0\n",
      "while (i < len_source):\n",
      "\tfound = False\n",
      "\tif (found != True and source[i] == \"<\" and source[i+1 : i+6].lower() == \"style\"):\n",
      "\t\tfound = True;\n",
      "\t\tj = i + 6;\n",
      "\t\twhile (True):\n",
      "\t\t\tif (source[j] == \"<\" and source[j+1] == \"/\" and source[j+2 : j+7].lower() == \"style\"):\n",
      "\t\t\t\t#print \"found - style\"\n",
      "\t\t\t\tsource = source[:i] + ' ' + source[j+8:]\n",
      "\t\t\t\tbreak\n",
      "\t\t\tj = j + 1\n",
      "\t\t\tif (j > len_source):\n",
      "\t\t\t\tbreak\n",
      "\t\tlen_source = len(source)\n",
      "\ti = i + 1\n",
      "\n",
      "len_source = len(source)\n",
      "#print len_source\n",
      "\n",
      "i = 0\n",
      "while (i < len_source):\n",
      "\tfound = False\n",
      "\tif (found != True and source[i] == \"<\"):\n",
      "\t\tfound = True;\n",
      "\t\tj = i + 1;\n",
      "\t\twhile (True):\n",
      "\t\t\tif (source[j] == \">\"):\n",
      "\t\t\t\t#print \"found - HTML tag\"\n",
      "\t\t\t\tsource = source[:i] + ' ' + source[j+1:]\n",
      "\t\t\t\tbreak\n",
      "\t\t\tj = j + 1\n",
      "\t\t\tif (j > len_source):\n",
      "\t\t\t\tbreak\n",
      "\t\tlen_source = len(source)\n",
      "\ti = i + 1\n",
      "\n",
      "len_source = len(source)\n",
      "\n",
      "words = source.split()\n",
      "\n",
      "#for word in words:\n",
      "#\tprint word\n",
      "\n",
      "\n",
      "import collections\n",
      "collections.Counter(words)"
     ],
     "language": "python",
     "metadata": {},
     "outputs": [
      {
       "metadata": {},
       "output_type": "pyout",
       "prompt_number": 123,
       "text": [
        "Counter({'Python': 49, '>>>': 23, 'and': 22, 'to': 20, ',': 18, 'the': 14, 'a': 13, 'of': 13, 'for': 12, 'is': 11, 'Events': 11, 'News': 11, '2014-': 10, 'More': 9, '#': 9, '=': 8, 'in': 8, 'with': 8, 'Community': 7, 'The': 7, 'Docs': 6, 'Software': 6, ':': 6, '3:': 5, 'Group': 5, 'Python&nbsp;3': 5, 'that': 5, 'sum': 5, '...': 5, 'on': 5, 'User': 5, 'Guide': 5, 'code': 4, 'PyCon': 4, '1': 4, 'programming': 4, 'Development': 4, 'are': 4, '3': 4, 'PSF': 4, 'has': 4, '/': 4, 'Archive': 4, 'your': 4, 'Lists': 4, 'other': 4, '&#9650;': 3, 'Foundation': 3, 'Documentation': 3, 'work': 3, 'can': 3, 'control': 3, 'A': 3, 'All': 3, 'Scientific': 3, '2014': 3, 'Help': 3, 'Sign': 3, 'Started': 3, '2': 3, 'Success': 3, '&nbsp;': 3, 'Stories': 3, 'been': 3, 'Learn': 3, 'IRC': 3, 'OS': 3, 'be': 3, '&amp;': 3, 'about': 3, 'or': 3, '.': 3, 'Diversity': 3, 'an': 3, 'Windows': 3, 'arguments,': 2, 'Business': 2, 'Javascript': 2, '0': 2, 'division': 2, \"I'm\": 2, 'list': 2, 'Platforms': 2, 'Index': 2, 'Interest': 2, 'Python.': 2, '+': 2, 'Back': 2, 'Alternative': 2, 'Top': 2, 'Awards': 2, 'Merchandise': 2, 'more': 2, 'Notice:': 2, 'this': 2, 'Developer&#39;s': 2, 'License': 2, 'List': 2, '&mdash;': 2, 'production': 2, 'defining': 2, 'was': 2, 'Simple': 2, 'Quotes': 2, 'Event': 2, 'Arts': 2, 'our': 2, 'content': 2, 'language': 2, '&gt;&gt;&gt;': 2, \"you're\": 2, 'Wiki': 2, 'released': 2, 'Conferences': 2, 'b': 2, 'browser': 2, 'Submit': 2, 'Other': 2, 'releases': 2, '-': 2, 'Getting': 2, 'Non-English': 2, 'flow': 2, 'syntax': 2, '8': 2, 'new': 2, 'X': 2, '17': 2, 'release': 2, 'Education': 2, 'Source': 2, 'num': 2, 'available': 2, 'Logo': 2, 'simple': 2, 'Groups': 2, '03-11': 2, 'as': 2, 'Implementations': 2, 'while': 2, 'FAQ': 2, 'About': 2, 'used': 2, 'In': 2, 'Talks': 2, 'Jobs': 2, 'candidate': 2, 'Audio/Visual': 2, 'Applications': 2, 'easy': 2, 'PEP': 2, '3.4': 2, 'Government': 2, 'Downloads': 2, 'a,': 2, 'Beginner&#39;s': 2, 'Mailing': 2, 'by': 2, 'up': 2, 'Engineering': 2, 'Books': 2, 'Special': 2, 'functions': 2, 'Mac': 2, '5': 2, 'functions.': 2, 'all': 1, 'tkInter': 1, 'Bottle': 1, 'issued': 1, 'per': 1, 'appetite': 1, 'faster': 1, 'day.': 1, 'versions!': 1, 'languages': 1, 'Not': 1, '3.3.5,': 1, 'very': 1, 'Django': 1, 'manipulated': 1, 'GO': 1, 'today.': 1, '3.4.0rc1,': 1, 'Statements': 1, 'Upcoming': 1, 'compositing': 1, 'Functions': 1, 'PUG': 1, 'core': 1, 'GUI': 1, 'built-in': 1, 'batch': 1, 'download': 1, 'General': 1, 'machines': 1, 'even': 1, 'Python,': 1, 'daily.': 1, 'Python!': 1, 'agrees': 1, 'version': 1, 'Compound': 1, '[(0,': 1, 'full': 1, 'languages)': 1, 'fruits]': 1, 'here': 1, 'Contact': 1, 'indexed,': 1, 'along': 1, 'allows': 1, 'experience': 1, \"name?\\\\n')\": 1, 'here.': 1, 'indentation': 1, 'pick': 1, 'Download': 1, 'FR': 1, 'Privacy': 1, 'sliced': 1, 'Whet': 1, 'IPython': 1, 'Donate': 1, 'tools': 1, 'environment': 1, 'use': 1, 'Microsoft': 1, 'a+b': 1, 'pipeline': 1, 'knows': 1, '18th,': 1, 'operators': 1, '02-20': 1, '3.4.0': 1, 'print(loud_fruits)': 1, 'name)': 1, 'interaction': 1, '~800': 1, 'name?': 1, 'quickly,': 1, 'Latest': 1, 'Pyramid': 1, 'overview.': 1, 'Frame': 1, '(2,': 1, '(known': 1, 'install': 1, 'learn': 1, 'Our': 1, 'online.': 1, '5.666666666666667': 1, 'def': 1, '(with': 1, 'Chrome': 1, 'key,': 1, '0.5': 1, 'Policy': 1, 'Guadalajara,': 1, '233': 1, 'provide': 1, '144': 1, '610': 1, 'You&rsquo;d': 1, '&gt;_': 1, 're-code)': 1, 'Become': 1, '3.4,': 1, 'data': 1, 'types': 1, '4,': 1, 'third': 1, 'fib(n):': 1, 'print()': 1, 'RSS': 1, 'What': 1, 'over': 1, 'Use': 1, 'Upgrade': 1, 'its': 1, 'Shell': 1, '20': 1, 'Salt': 1, 'programmers.': 1, 'course.': 1, 'better': 1, 'systems': 1, 'installers': 1, 'Register': 1, 'compound': 1, 'not': 1, 'name': 1, 'Skip': 1, 'released.': 1, 'Tru64,': 1, 'docs.python.org': 1, 'Hi,': 1, '377': 1, 'Network': 1, 'series': 1, 'Runs': 1, 'related': 1, '89': 1, 'pipeline.': 1, 'language,': 1, 'is:': 1, 'Hello,': 1, 'join': 1, 'Thousands': 1, 'Welcome': 1, 'Pandas': 1, 'Linux,': 1, 'math': 1, 'protect,': 1, 'This': 1, 'standard': 1, 'list(enumerate(fruits))': 1, 'advance': 1, 'go.': 1, 'motion': 1, 'turn': 1, 'place': 1, 'Expect': 1, '8]': 1, 'facilitate': 1, 'first': 1, '11-04': 1, 'Copyright': 1, 'list:': 1, 'Administration': 1, 'one': 1, 'Start': 1, 'community-run': 1, 'enumerate': 1, 'release,': 1, 'Website': 1, 'ancient': 1, 'X,': 1, 'returns': 1, '&equiv;': 1, '&lt;': 1, 'Search': 1, 'USA)': 1, 'lists': 1, 'fib(1000)': 1, '13': 1, 'Colophon': 1, 'keyword': 1, 'Data': 1, 'Mexico': 1, 'PyQt': 1, 'future': 1, 'fruits': 1, 'Easy': 1, 'Freenode': 1, 'experience.': 1, \"'Apple',\": 1, 'argument': 1, 'twists,': 1, 'have': 1, 'Valley': 1, 'any': 1, \"'Banana'),\": 1, 'which': 1, 'Python!\")': 1, 'experienced': 1, 'Trac': 1, 'programmers': 1, '**': 1, 'Google': 1, 'clean': 1, 'Speed': 1, 'Web': 1, 'Flask': 1, 'print(a,': 1, 'find': 1, 'jobs.python.org': 1, '(and': 1, 'integrate': 1, 'thousands': 1, 'Magic': 1, 'Whether': 1, 'Larger': 1, 'Solaris,': 1, 'mission': 1, 'While': 1, 'Quick': 1, 'runs': 1, 'Ansible': 1, 'source': 1, 'Latest:': 1, 'Roundup': 1, 'mandatory': 1, 'For': 1, 'Fox': 1, 'modeling,': 1, 'IRIX,': 1, 'Light': 1, 'tens': 1, '0,': 1, 'Finland': 1, '[2,': 1, 'Buildbot': 1, 'Programming': 1, 'job': 1, 'optional': 1, '21': 1, 'parentheses': 1, \"'Apple'),\": 1, \"'Lime']\": 1, 'expression': 1, 'learn.': 1, 'Compaq': 1, 'ILM': 1, '6,': 1, \"%s.'\": 1, 'community': 1, 'OpenStack': 1, 'speak': 1, '(WI,': 1, 'Get': 1, \"it's\": 1, 'PyPI': 1, 'quickly': 1, 'promote,': 1, 'straightforward:': 1, 'Unicode)': 1, 'growth': 1, 'comprehensions': 1, 'Your': 1, 'tutorials': 1, '03-17': 1, 'Flow': 1, 'for&hellip;': 1, '08-01': 1, \"'LIME']\": 1, 'n': 1, 'will': 1, 'Fibonacci': 1, '[fruit.upper()': 1, 'loop': 1, 'Menu': 1, \"input('What\": 1, 'Looking': 1, 'Tim': 1, 'Calculations': 1, 'use?': 1, '34': 1, 'if': 1, 'different': 1, \"['BANANA',\": 1, 'Socialize': 1, '&#9660;': 1, 'limited.': 1, \"print('Hi,\": 1, 'Types': 1, 'development': 1, '10-28': 1, '10-27': 1, 'assignment': 1, '10-25': 1, 'expected;': 1, '10-20': 1, 'running': 1, 'fruit': 1, 'Fortenberry': 1, '//': 1, '2.7.8': 1, 'is:\",': 1, 'programs': 1, 'wxPython': 1, 'extensible': 1, 'position': 1, 'Legal': 1, 'usual': 1, '&copy;2001-2014.': 1, 'sum)': 1, 'Argentina': 1, 'SciPyCon': 1, 'lets': 1, 'board': 1, 'Reset': 1, 'Intuitive': 1, 'Launch': 1, '()': 1, 'web2py': 1, \"end='\": 1, 'Member': 1, 'Smaller': 1, '55': 1, 'loud_fruits': 1, 'Numeric': 1, 'Defined': 1, 'Enhancement': 1, 'arbitrary': 1, 'output': 1, 'essential': 1, 'print(\"The': 1, 'b,': 1, 'some': 1, '987': 1, 'sure': 1, 'Experienced': 1, 'Facebook': 1, 'Google+': 1, 'processing': 1, 'web.': 1, 'Up': 1, '3.4.2': 1, '3.4.1': 1, 'capable': 1, 'discussed': 1, 'Check': 1, 'range': 1, 'Input,': 1, 'grouping.': 1, 'own': 1, 'statements': 1, 'float': 1, '2014,': 1, 'rendering': 1, 'for?': 1, 'frames': 1, 'Python.org': 1, 'support': 1, '*': 1, '(1,': 1, 'way': 1, 'lists.': 1, 'guides,': 1, \"Python's\": 1, 'function': 1, \"'APPLE',\": 1, \"['Banana',\": 1, 'System': 1, 'beginners': 1, 'PyGtk': 1, 'trying': 1, 'Interactive': 1, 'hire': 1, 'Industrial': 1, 'Interpretation': 1, 'arrays': 1, 'bugfix': 1, 'Twitter': 1, 'effectively.': 1, 'Close': 1, 'Initiatives': 1, '-->': 1, 'Please': 1, 'classic': 1, 'print(\"Hello,': 1, 'diverse': 1, \"')\": 1, '%': 1, 'floor': 1, 'May': 1, 'website,': 1, 'you': 1, 'arithmetic': 1, 'picture': 1, 'users': 1, 'Proposals': 1, \"'Lime')]\": 1, 'includes': 1, 'SciPy': 1, 'understands.': 1, 'structure': 1, 'Tornado': 1, 'developer,': 1, 'Beginner&rsquo;s': 1, 'Site': 1, 'together': 1, 'n:': 1, 'international': 1, '(PEPs)': 1, 'library,': 1})"
       ]
      }
     ],
     "prompt_number": 123
    },
    {
     "cell_type": "markdown",
     "metadata": {},
     "source": [
      "\ud30c\uc774\uc36c \uacfc\uc81c\uac00 \ub108\ubb34 \uc5b4\ub824\uc6cc\uc694... \uacfc\uc81c\ub294 \ucc45\uacfc \uc778\ud130\ub137\uc744 \ucc38\uace0\ud574\uc11c \uc5b4\ub5bb\uac8c \uc5b4\ub5bb\uac8c \ud558\ub294\ub370 \uc2dc\ud5d8 \ub108\ubb34 \ub9c9\ub9c9\ud574\uc694...\u3160\u3160"
     ]
    },
    {
     "cell_type": "code",
     "collapsed": false,
     "input": [],
     "language": "python",
     "metadata": {},
     "outputs": []
    }
   ],
   "metadata": {}
  }
 ]
}